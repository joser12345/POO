{
  "nbformat": 4,
  "nbformat_minor": 0,
  "metadata": {
    "colab": {
      "provenance": []
    },
    "kernelspec": {
      "name": "python3",
      "display_name": "Python 3"
    },
    "language_info": {
      "name": "python"
    }
  },
  "cells": [
    {
      "cell_type": "markdown",
      "source": [],
      "metadata": {
        "id": "WkbcYQb_cEbP"
      }
    },
    {
      "cell_type": "code",
      "source": [],
      "metadata": {
        "id": "-LUexo52cFTE"
      },
      "execution_count": null,
      "outputs": []
    },
    {
      "cell_type": "markdown",
      "source": [
        "## conjuntos y listas\n",
        "\n",
        "- conjuntos finitos:\n",
        "$$\\{o_1, o_2\\dots, o_n\\} $$\n",
        "- listas finitas\n",
        "$$[l_1, l_2\\dots, l_n] $$\n"
      ],
      "metadata": {
        "id": "rCLAORF_cloH"
      }
    },
    {
      "cell_type": "markdown",
      "source": [
        "En python, existe la funcion `range(a,b) ` donde  `range (a,b)` ≥ 0"
      ],
      "metadata": {
        "id": "m15l2biNepm_"
      }
    },
    {
      "cell_type": "markdown",
      "source": [
        "¿Comó puedo ver los elementos de esste generador de indicses?\n"
      ],
      "metadata": {
        "id": "MeiTZ8UXgWFB"
      }
    },
    {
      "cell_type": "code",
      "source": [
        "for i in range(10)  :\n",
        "    print(i)"
      ],
      "metadata": {
        "colab": {
          "base_uri": "https://localhost:8080/"
        },
        "id": "I-LDCKgygfrB",
        "outputId": "647d58df-67c2-4665-f68a-1dfe83958c37"
      },
      "execution_count": 3,
      "outputs": [
        {
          "output_type": "stream",
          "name": "stdout",
          "text": [
            "0\n",
            "1\n",
            "2\n",
            "3\n",
            "4\n",
            "5\n",
            "6\n",
            "7\n",
            "8\n",
            "9\n"
          ]
        }
      ]
    },
    {
      "cell_type": "code",
      "source": [
        "# vamos a construir dos conjuntos\n",
        "\n",
        "pares = {i for i in range(21) if i%2==0}\n",
        "print (f\"pares: {pares}\")\n",
        "\n",
        "impares = {i for i in range(21) if i%2==1}\n",
        "print (f\"impares: {impares}\")\n",
        "\n",
        "c ={17,7,27,19,77,56, 8, 12,10,13,20,16}\n",
        "c, type(c)\n",
        "\n",
        "\n"
      ],
      "metadata": {
        "colab": {
          "base_uri": "https://localhost:8080/"
        },
        "id": "4G8iF9TIhBd1",
        "outputId": "b4c87d0d-dace-441c-c1f1-181d502cbab3"
      },
      "execution_count": 16,
      "outputs": [
        {
          "output_type": "stream",
          "name": "stdout",
          "text": [
            "pares: {0, 2, 4, 6, 8, 10, 12, 14, 16, 18, 20}\n",
            "impares: {1, 3, 5, 7, 9, 11, 13, 15, 17, 19}\n"
          ]
        },
        {
          "output_type": "execute_result",
          "data": {
            "text/plain": [
              "({7, 8, 10, 12, 13, 16, 17, 19, 20, 27, 56, 77}, set)"
            ]
          },
          "metadata": {},
          "execution_count": 16
        }
      ]
    },
    {
      "cell_type": "markdown",
      "source": [
        "**los objetos en python tienen atributos**"
      ],
      "metadata": {
        "id": "C4EJiYX7kEsC"
      }
    },
    {
      "cell_type": "code",
      "source": [
        "pares.intersection(impares)\n",
        "\n"
      ],
      "metadata": {
        "colab": {
          "base_uri": "https://localhost:8080/"
        },
        "id": "72nU1ztLkMuk",
        "outputId": "23fd256f-202e-4559-aee2-19c0ba4f94c3"
      },
      "execution_count": 19,
      "outputs": [
        {
          "output_type": "execute_result",
          "data": {
            "text/plain": [
              "{0, 1, 2, 3, 4, 5, 6, 7, 8, 9, 10, 11, 12, 13, 14, 15, 16, 17, 18, 19, 20}"
            ]
          },
          "metadata": {},
          "execution_count": 19
        }
      ]
    },
    {
      "cell_type": "code",
      "source": [
        "pares.union(impares)"
      ],
      "metadata": {
        "id": "Jp8is282k1xT"
      },
      "execution_count": null,
      "outputs": []
    },
    {
      "cell_type": "code",
      "source": [
        "impares.difference(c)"
      ],
      "metadata": {
        "colab": {
          "base_uri": "https://localhost:8080/"
        },
        "id": "t8QH6RfUk2lw",
        "outputId": "5dffedfd-544c-40e5-bac7-ca3cfd1c5295"
      },
      "execution_count": 20,
      "outputs": [
        {
          "output_type": "execute_result",
          "data": {
            "text/plain": [
              "{1, 3, 5, 9, 11, 15}"
            ]
          },
          "metadata": {},
          "execution_count": 20
        }
      ]
    },
    {
      "cell_type": "markdown",
      "source": [
        "**listas**\n"
      ],
      "metadata": {
        "id": "u31uCDevl14J"
      }
    },
    {
      "cell_type": "code",
      "source": [
        "Lista_pares = list(pares)\n",
        "Lista_pares"
      ],
      "metadata": {
        "colab": {
          "base_uri": "https://localhost:8080/"
        },
        "id": "b-vbz2bJl6FC",
        "outputId": "ab494099-47e3-4255-da48-43a4ade95690"
      },
      "execution_count": 21,
      "outputs": [
        {
          "output_type": "execute_result",
          "data": {
            "text/plain": [
              "[0, 2, 4, 6, 8, 10, 12, 14, 16, 18, 20]"
            ]
          },
          "metadata": {},
          "execution_count": 21
        }
      ]
    }
  ]
}