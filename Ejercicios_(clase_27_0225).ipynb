{
  "nbformat": 4,
  "nbformat_minor": 0,
  "metadata": {
    "colab": {
      "provenance": []
    },
    "kernelspec": {
      "name": "python3",
      "display_name": "Python 3"
    },
    "language_info": {
      "name": "python"
    }
  },
  "cells": [
    {
      "cell_type": "markdown",
      "source": [
        "1. Imprime \"Hola, Mundo!\" en la consola."
      ],
      "metadata": {
        "id": "pGJnBXIp4YnP"
      }
    },
    {
      "cell_type": "code",
      "source": [
        "# 1. Imprime \"Hola, Mundo!\" en la consola.\n",
        "print(\"Hola, Mundo!\")"
      ],
      "metadata": {
        "colab": {
          "base_uri": "https://localhost:8080/"
        },
        "id": "qSuu8djD4dsY",
        "outputId": "a368214e-5d1e-497e-d5b3-7242f8b44314"
      },
      "execution_count": null,
      "outputs": [
        {
          "output_type": "stream",
          "name": "stdout",
          "text": [
            "Hola, Mundo!\n"
          ]
        }
      ]
    },
    {
      "cell_type": "code",
      "source": [
        "# 2. Declara una variable llamada nombre e imprime su valor.\n",
        "nombre = \"Jose\"\n",
        "print(nombre)"
      ],
      "metadata": {
        "colab": {
          "base_uri": "https://localhost:8080/"
        },
        "id": "swQuy_lv5MRg",
        "outputId": "aaad22a3-a07c-47d5-e83d-8706eddc357e"
      },
      "execution_count": null,
      "outputs": [
        {
          "output_type": "stream",
          "name": "stdout",
          "text": [
            "Santiago\n"
          ]
        }
      ]
    },
    {
      "cell_type": "code",
      "source": [
        "# 3. Pide al usuario que ingrese un número e imprime su doble.\n",
        "num = int(input(\"Ingresa un número: \"))\n",
        "print(\"El doble es:\", num * 2)"
      ],
      "metadata": {
        "colab": {
          "base_uri": "https://localhost:8080/"
        },
        "id": "ttZ3OdGP5QEV",
        "outputId": "e7d1e995-1ad3-4dba-deb2-91199db0fc20"
      },
      "execution_count": null,
      "outputs": [
        {
          "output_type": "stream",
          "name": "stdout",
          "text": [
            "Ingresa un número: 2\n",
            "El doble es: 4\n"
          ]
        }
      ]
    },
    {
      "cell_type": "code",
      "source": [
        "# 4. Escribe un programa que sume dos números ingresados por el usuario.\n",
        "num1 = int(input(\"Ingresa el primer número: \"))\n",
        "num2 = int(input(\"Ingresa el segundo número: \"))\n",
        "print(\"La suma es:\", num1 + num2)"
      ],
      "metadata": {
        "colab": {
          "base_uri": "https://localhost:8080/"
        },
        "id": "qBFJvxvo5Q54",
        "outputId": "46255c88-6594-4094-cadc-565b5584717b"
      },
      "execution_count": null,
      "outputs": [
        {
          "output_type": "stream",
          "name": "stdout",
          "text": [
            "Ingresa el primer número: 2\n",
            "Ingresa el segundo número: 3\n",
            "La suma es: 5\n"
          ]
        }
      ]
    },
    {
      "cell_type": "code",
      "source": [
        "# 5. Crea una lista con cinco números y muestra el primer y último elemento.\n",
        "numeros = [10, 20, 30, 40, 50]\n",
        "print(\"Primer número:\", numeros[0], \"Último número:\", numeros[-1])"
      ],
      "metadata": {
        "colab": {
          "base_uri": "https://localhost:8080/"
        },
        "id": "bss40N6Y5Vsq",
        "outputId": "d693f576-1749-478b-9018-e18b8b7c5e37"
      },
      "execution_count": null,
      "outputs": [
        {
          "output_type": "stream",
          "name": "stdout",
          "text": [
            "Primer número: 10 Último número: 50\n"
          ]
        }
      ]
    },
    {
      "cell_type": "code",
      "source": [
        "# 6. Escribe un programa que verifique si un número es par o impar.\n",
        "num = int(input(\"Ingresa un número: \"))\n",
        "if num % 2 == 0:\n",
        "    print(\"El número es par\")\n",
        "else:\n",
        "    print(\"El número es impar\")"
      ],
      "metadata": {
        "colab": {
          "base_uri": "https://localhost:8080/"
        },
        "id": "5PfysJaR5WmC",
        "outputId": "c9eef5d2-67dc-4622-9b72-5fc302524fef"
      },
      "execution_count": null,
      "outputs": [
        {
          "output_type": "stream",
          "name": "stdout",
          "text": [
            "Ingresa un número: 3\n",
            "El número es impar\n"
          ]
        }
      ]
    },
    {
      "cell_type": "code",
      "source": [
        "# 7. Escribe un bucle que imprima los números del 1 al 10.\n",
        "for i in range(1, 11):\n",
        "    print(i)"
      ],
      "metadata": {
        "colab": {
          "base_uri": "https://localhost:8080/"
        },
        "id": "iTTZoYZD5Zn-",
        "outputId": "1f02fdc3-36be-405e-8fe8-135133141080"
      },
      "execution_count": null,
      "outputs": [
        {
          "output_type": "stream",
          "name": "stdout",
          "text": [
            "1\n",
            "2\n",
            "3\n",
            "4\n",
            "5\n",
            "6\n",
            "7\n",
            "8\n",
            "9\n",
            "10\n"
          ]
        }
      ]
    },
    {
      "cell_type": "code",
      "source": [
        "# 8. Calcula la suma de los primeros 100 números naturales.\n",
        "suma = 0\n",
        "for i in range(1, 101):\n",
        "    suma += i\n",
        "print(\"La suma de los primeros 100 números naturales es:\", suma)"
      ],
      "metadata": {
        "colab": {
          "base_uri": "https://localhost:8080/"
        },
        "id": "SvbfASUB5b3X",
        "outputId": "17e29cd1-d785-4698-a2fb-5232060230fa"
      },
      "execution_count": null,
      "outputs": [
        {
          "output_type": "stream",
          "name": "stdout",
          "text": [
            "La suma de los primeros 100 números naturales es: 5050\n"
          ]
        }
      ]
    },
    {
      "cell_type": "code",
      "source": [
        "# 9. Crea una función que reciba un número y devuelva su cuadrado.\n",
        "def cuadrado(n):\n",
        "    return n ** 2\n",
        "num = int(input(\"Ingresa un número: \"))\n",
        "print(f\"El cuadrado de {num} es:\", cuadrado(num))"
      ],
      "metadata": {
        "colab": {
          "base_uri": "https://localhost:8080/"
        },
        "id": "0YXQVUUp5evk",
        "outputId": "9c0cf2fe-0ce4-434e-b81c-eec719d70a92"
      },
      "execution_count": null,
      "outputs": [
        {
          "output_type": "stream",
          "name": "stdout",
          "text": [
            "Ingresa un número: 4\n",
            "El cuadrado de 4 es: 16\n"
          ]
        }
      ]
    },
    {
      "cell_type": "code",
      "source": [
        "# 10. Escribe un programa que cuente cuántas vocales tiene una cadena de texto.\n",
        "texto = input(\"Ingresa un texto: \")\n",
        "vocales = \"aeiouAEIOU\"\n",
        "cont = 0\n",
        "for letra in texto:\n",
        "    if letra in vocales:\n",
        "        cont += 1\n",
        "print(\"El texto tiene\", cont, \"vocales\")"
      ],
      "metadata": {
        "colab": {
          "base_uri": "https://localhost:8080/"
        },
        "id": "tAxp2LuL5iM-",
        "outputId": "b2eb1c93-85bb-4e6b-a454-681a5e4f0da1"
      },
      "execution_count": null,
      "outputs": [
        {
          "output_type": "stream",
          "name": "stdout",
          "text": [
            "Ingresa un texto: efadzcxcsgdagshdgz\n",
            "El texto tiene 3 vocales\n"
          ]
        }
      ]
    },
    {
      "cell_type": "code",
      "source": [
        "# 11. Crea una lista de n´umeros del 1 al 10 y muestra solo los pares.\n",
        "numeros = list(range(1, 11))\n",
        "for i in range (len(numeros)):\n",
        "    if numeros[i] % 2 == 0:\n",
        "      print(numeros[i])"
      ],
      "metadata": {
        "colab": {
          "base_uri": "https://localhost:8080/"
        },
        "id": "h0bBl2j18jZa",
        "outputId": "0bbb0baf-0fbb-467a-929d-4427c7f2afcd"
      },
      "execution_count": null,
      "outputs": [
        {
          "output_type": "stream",
          "name": "stdout",
          "text": [
            "2\n",
            "4\n",
            "6\n",
            "8\n",
            "10\n"
          ]
        }
      ]
    },
    {
      "cell_type": "code",
      "source": [
        "# 12. Crea un diccionario que relacione nombres con su edad y muestra la edad de una persona específica.\n",
        "nombres = [\"Jose\",\"Roberto\",\"carlos\",\"Diego\"]\n",
        "edades =[19,18,17,16]\n",
        "edadbusq = 0\n",
        "busq = input(\"Que nombre desea buscar?:\")\n",
        "for i in range(len(nombres)):\n",
        "    if busq == nombres[i]:\n",
        "      edadbusq = edades[i]\n",
        "if edadbusq != 0:\n",
        "  print(f\"La edad de {busq} es de {edadbusq} años\")\n",
        "else:\n",
        "  print(\"No se encontro el nombre\")"
      ],
      "metadata": {
        "colab": {
          "base_uri": "https://localhost:8080/"
        },
        "id": "Hk2Uc8_89zXE",
        "outputId": "91564ab3-effa-4fb7-f2cd-9fd56f502c38"
      },
      "execution_count": null,
      "outputs": [
        {
          "output_type": "stream",
          "name": "stdout",
          "text": [
            "Que nombre desea buscar?:g\n",
            "No se encontro el nombre\n"
          ]
        }
      ]
    },
    {
      "cell_type": "code",
      "source": [
        "# 13. Escribe un programa que encuentre el número más grande en una lista.\n",
        "list = [1,3,2,76,23,123,1,23,125,345,45]\n",
        "def mayor(lista):\n",
        "  nummayor = 0\n",
        "  for i in range(len(lista)):\n",
        "    if lista[i] > nummayor:\n",
        "      nummayor = lista[i]\n",
        "  return nummayor\n",
        "print(mayor(list))"
      ],
      "metadata": {
        "colab": {
          "base_uri": "https://localhost:8080/"
        },
        "id": "neBhYci5CDEL",
        "outputId": "58c37e75-79d1-47e7-d411-5c7080cc56bf"
      },
      "execution_count": null,
      "outputs": [
        {
          "output_type": "stream",
          "name": "stdout",
          "text": [
            "345\n"
          ]
        }
      ]
    },
    {
      "cell_type": "code",
      "source": [
        "# 14. Escribe una función que tome una lista de números y devuelva su promedio.\n",
        "list = [1,3,2,76,23,123,1,23,125,345,45]\n",
        "def promedio(lista):\n",
        "  suma = 0\n",
        "  for i in range(len(lista)):\n",
        "    suma += lista[i]\n",
        "  promedio = suma / len(lista)\n",
        "  return promedio\n",
        "print(promedio(list))"
      ],
      "metadata": {
        "colab": {
          "base_uri": "https://localhost:8080/"
        },
        "id": "uXFu0Zl4GRkh",
        "outputId": "44919cee-1820-46ff-d2aa-1cf09e8cf3fc"
      },
      "execution_count": null,
      "outputs": [
        {
          "output_type": "stream",
          "name": "stdout",
          "text": [
            "69.72727272727273\n"
          ]
        }
      ]
    },
    {
      "cell_type": "code",
      "source": [
        "# 15. Escribe un programa que verifique si una palabra es un palíndromo\n",
        "palabra = input(\"Ingresa una palabra: \")\n",
        "if palabra == palabra[::-1]:\n",
        "  print(\"Es un palindromo\")\n",
        "else:\n",
        "  print(\"No es un palindromo\")"
      ],
      "metadata": {
        "colab": {
          "base_uri": "https://localhost:8080/"
        },
        "id": "qRHt1F0UG_7X",
        "outputId": "d8fea886-43f9-4f1c-8484-780ff6398772"
      },
      "execution_count": null,
      "outputs": [
        {
          "output_type": "stream",
          "name": "stdout",
          "text": [
            "Ingresa una palabra: jij\n",
            "Es un palindromo\n"
          ]
        }
      ]
    },
    {
      "cell_type": "code",
      "source": [
        "# 16. Crea una funcion que tome dos numeros y devuelva el mayor.\n",
        "num1 = int(input(\"Ingresa el primer número: \"))\n",
        "num2 = int(input(\"Ingresa el segundo número: \"))\n",
        "def mayor(num1,num2):\n",
        "  if num1 > num2:\n",
        "    return num1\n",
        "  else:\n",
        "    return num2\n",
        "print(f\"El número mayor es: {mayor(num1,num2)}\")"
      ],
      "metadata": {
        "colab": {
          "base_uri": "https://localhost:8080/"
        },
        "id": "w1mGgDKHHrG1",
        "outputId": "345f7a0f-f212-4210-f7f6-4d14089aac65"
      },
      "execution_count": null,
      "outputs": [
        {
          "output_type": "stream",
          "name": "stdout",
          "text": [
            "El mayor es: 12\n"
          ]
        }
      ]
    },
    {
      "cell_type": "code",
      "source": [
        "# 17. Escribe un programa que genere la tabla de multiplicar de un número ingresado por el usuario.\n",
        "num = int(input(\"Ingresa un número: \"))\n",
        "for i in range(1,11):\n",
        "  print(f\"{num} x {i} = {num*i}\")"
      ],
      "metadata": {
        "colab": {
          "base_uri": "https://localhost:8080/"
        },
        "id": "GL9X317PIEgS",
        "outputId": "ce76c6c5-9d5c-4b6c-91a2-16e744e2cb5b"
      },
      "execution_count": null,
      "outputs": [
        {
          "output_type": "stream",
          "name": "stdout",
          "text": [
            "Ingresa un número: 3\n",
            "3 x 1 = 3\n",
            "3 x 2 = 6\n",
            "3 x 3 = 9\n",
            "3 x 4 = 12\n",
            "3 x 5 = 15\n",
            "3 x 6 = 18\n",
            "3 x 7 = 21\n",
            "3 x 8 = 24\n",
            "3 x 9 = 27\n",
            "3 x 10 = 30\n"
          ]
        }
      ]
    }
  ]
}