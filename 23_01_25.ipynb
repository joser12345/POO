{
  "nbformat": 4,
  "nbformat_minor": 0,
  "metadata": {
    "colab": {
      "provenance": []
    },
    "kernelspec": {
      "name": "python3",
      "display_name": "Python 3"
    },
    "language_info": {
      "name": "python"
    }
  },
  "cells": [
    {
      "cell_type": "code",
      "execution_count": null,
      "metadata": {
        "id": "7_8SRenFqx68"
      },
      "outputs": [],
      "source": []
    },
    {
      "cell_type": "markdown",
      "source": [],
      "metadata": {
        "id": "vlkgJP4yrAYl"
      }
    },
    {
      "cell_type": "markdown",
      "source": [
        "#Introduccion a python\n",
        "en la clase vamos a ver como programar con python que es un lenguage orientado a objetos, es decir depende del programa base de rooth en c\n",
        "##¿Qué veremos hoy?\n",
        "\n",
        "\n",
        "1.   objetos\n",
        "2.   variables\n",
        "3.   ejemplo\n",
        "\n",
        "### algunos objetos en python\n",
        "\n",
        "\n",
        "1.   inty float (enteros y flotantes).\n",
        "2.   str (string).\n",
        "3.   conjuntos y listas\n",
        "...\n",
        "**la funcion `print` y la funcion `type` **\n",
        "\n",
        "\n",
        "\n",
        "\n",
        "\n",
        "\n",
        "\n",
        "\n"
      ],
      "metadata": {
        "id": "b3vyBSLJrGQq"
      }
    },
    {
      "cell_type": "markdown",
      "source": [
        "**nota ** en este procesador de texto, se puede escribir en html y en latex\n",
        "  por ejemplo, vamos a escribir a la ecuacion más hermosa de todas:  \n",
        "  $$ e^{iπ}+1=0 $$\n",
        "\n",
        "  otro ejemplo:\n",
        "  \n",
        "\\begin{bmatrix}\n",
        "a_{11} & a_{12} & a_{13} \\\\\n",
        "a_{21} & a_{22} & a_{23} \\\\\n",
        "a_{31} & a_{32} & a_{33}\n",
        "\\end{bmatrix}\n"
      ],
      "metadata": {
        "id": "oOTLLtMyt6lh"
      }
    },
    {
      "cell_type": "code",
      "source": [],
      "metadata": {
        "id": "RdkINQrKs6RY"
      },
      "execution_count": null,
      "outputs": []
    },
    {
      "cell_type": "markdown",
      "source": [
        "**la funcion print**\n",
        "#### Operaciones básicas en int o float\n",
        "\n",
        "\n",
        "*   $+, \\ -$ Suma y resta\n",
        "*   $*,/,**$ Multiplicación, división y potenciación\n",
        "*   $\\%$ Operación modular\n",
        "*   $//$ División al piso\n"
      ],
      "metadata": {
        "id": "pxW4u1JSn0Ht"
      }
    },
    {
      "cell_type": "code",
      "source": [],
      "metadata": {
        "id": "zcUF7RZwnzhd"
      },
      "execution_count": null,
      "outputs": []
    }
  ]
}